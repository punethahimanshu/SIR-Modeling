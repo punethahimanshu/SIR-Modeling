{
 "cells": [
  {
   "cell_type": "markdown",
   "metadata": {},
   "source": []
  },
  {
   "cell_type": "code",
   "execution_count": 1,
   "metadata": {},
   "outputs": [
    {
     "name": "stderr",
     "output_type": "stream",
     "text": [
      "also installing the dependency 'isoband'\n",
      "\n"
     ]
    },
    {
     "name": "stdout",
     "output_type": "stream",
     "text": [
      "package 'isoband' successfully unpacked and MD5 sums checked\n",
      "package 'deSolve' successfully unpacked and MD5 sums checked\n",
      "package 'ggplot2' successfully unpacked and MD5 sums checked\n",
      "package 'reshape2' successfully unpacked and MD5 sums checked\n",
      "\n",
      "The downloaded binary packages are in\n",
      "\tC:\\Users\\HIMANSHU\\AppData\\Local\\Temp\\Rtmpo1WMHi\\downloaded_packages\n"
     ]
    }
   ],
   "source": [
    "install.packages(c(\"deSolve\", \"ggplot2\", \"reshape2\"))"
   ]
  },
  {
   "cell_type": "code",
   "execution_count": 2,
   "metadata": {},
   "outputs": [
    {
     "name": "stderr",
     "output_type": "stream",
     "text": [
      "Warning message:\n",
      "\"package 'deSolve' was built under R version 3.6.3\"Warning message:\n",
      "\"package 'reshape2' was built under R version 3.6.3\"Warning message:\n",
      "\"package 'ggplot2' was built under R version 3.6.3\""
     ]
    }
   ],
   "source": [
    "library(deSolve)\n",
    "library(reshape2)\n",
    "library(ggplot2)"
   ]
  },
  {
   "cell_type": "code",
   "execution_count": 3,
   "metadata": {},
   "outputs": [],
   "source": [
    "initial_number_infected <- 1000000\n",
    "initial_number_recovered <- 0\n",
    "initial_number_mortality <- 0\n",
    "recovery_rate <- 0.1\n",
    "mortality_rate <- 0.2\n",
    "follow_up_duration <- 4*7"
   ]
  },
  {
   "cell_type": "code",
   "execution_count": 4,
   "metadata": {},
   "outputs": [],
   "source": [
    "initial_state_values <- c(I = initial_number_infected, R = initial_number_recovered, M = initial_number_mortality) \n",
    "parameters <- c(gamma = recovery_rate, mu = mortality_rate)\n",
    "times <- seq(from = 0, to = follow_up_duration, by=1)\n",
    "\n"
   ]
  },
  {
   "cell_type": "code",
   "execution_count": 5,
   "metadata": {},
   "outputs": [
    {
     "data": {
      "text/html": [
       "<dl class=dl-horizontal>\n",
       "\t<dt>I</dt>\n",
       "\t\t<dd>1e+06</dd>\n",
       "\t<dt>R</dt>\n",
       "\t\t<dd>0</dd>\n",
       "\t<dt>M</dt>\n",
       "\t\t<dd>0</dd>\n",
       "</dl>\n"
      ],
      "text/latex": [
       "\\begin{description*}\n",
       "\\item[I] 1e+06\n",
       "\\item[R] 0\n",
       "\\item[M] 0\n",
       "\\end{description*}\n"
      ],
      "text/markdown": [
       "I\n",
       ":   1e+06R\n",
       ":   0M\n",
       ":   0\n",
       "\n"
      ],
      "text/plain": [
       "    I     R     M \n",
       "1e+06 0e+00 0e+00 "
      ]
     },
     "metadata": {},
     "output_type": "display_data"
    },
    {
     "data": {
      "text/html": [
       "<dl class=dl-horizontal>\n",
       "\t<dt>gamma</dt>\n",
       "\t\t<dd>0.1</dd>\n",
       "\t<dt>mu</dt>\n",
       "\t\t<dd>0.2</dd>\n",
       "</dl>\n"
      ],
      "text/latex": [
       "\\begin{description*}\n",
       "\\item[gamma] 0.1\n",
       "\\item[mu] 0.2\n",
       "\\end{description*}\n"
      ],
      "text/markdown": [
       "gamma\n",
       ":   0.1mu\n",
       ":   0.2\n",
       "\n"
      ],
      "text/plain": [
       "gamma    mu \n",
       "  0.1   0.2 "
      ]
     },
     "metadata": {},
     "output_type": "display_data"
    },
    {
     "data": {
      "text/html": [
       "<ol class=list-inline>\n",
       "\t<li>0</li>\n",
       "\t<li>1</li>\n",
       "\t<li>2</li>\n",
       "\t<li>3</li>\n",
       "\t<li>4</li>\n",
       "\t<li>5</li>\n",
       "\t<li>6</li>\n",
       "\t<li>7</li>\n",
       "\t<li>8</li>\n",
       "\t<li>9</li>\n",
       "\t<li>10</li>\n",
       "\t<li>11</li>\n",
       "\t<li>12</li>\n",
       "\t<li>13</li>\n",
       "\t<li>14</li>\n",
       "\t<li>15</li>\n",
       "\t<li>16</li>\n",
       "\t<li>17</li>\n",
       "\t<li>18</li>\n",
       "\t<li>19</li>\n",
       "\t<li>20</li>\n",
       "\t<li>21</li>\n",
       "\t<li>22</li>\n",
       "\t<li>23</li>\n",
       "\t<li>24</li>\n",
       "\t<li>25</li>\n",
       "\t<li>26</li>\n",
       "\t<li>27</li>\n",
       "\t<li>28</li>\n",
       "</ol>\n"
      ],
      "text/latex": [
       "\\begin{enumerate*}\n",
       "\\item 0\n",
       "\\item 1\n",
       "\\item 2\n",
       "\\item 3\n",
       "\\item 4\n",
       "\\item 5\n",
       "\\item 6\n",
       "\\item 7\n",
       "\\item 8\n",
       "\\item 9\n",
       "\\item 10\n",
       "\\item 11\n",
       "\\item 12\n",
       "\\item 13\n",
       "\\item 14\n",
       "\\item 15\n",
       "\\item 16\n",
       "\\item 17\n",
       "\\item 18\n",
       "\\item 19\n",
       "\\item 20\n",
       "\\item 21\n",
       "\\item 22\n",
       "\\item 23\n",
       "\\item 24\n",
       "\\item 25\n",
       "\\item 26\n",
       "\\item 27\n",
       "\\item 28\n",
       "\\end{enumerate*}\n"
      ],
      "text/markdown": [
       "1. 0\n",
       "2. 1\n",
       "3. 2\n",
       "4. 3\n",
       "5. 4\n",
       "6. 5\n",
       "7. 6\n",
       "8. 7\n",
       "9. 8\n",
       "10. 9\n",
       "11. 10\n",
       "12. 11\n",
       "13. 12\n",
       "14. 13\n",
       "15. 14\n",
       "16. 15\n",
       "17. 16\n",
       "18. 17\n",
       "19. 18\n",
       "20. 19\n",
       "21. 20\n",
       "22. 21\n",
       "23. 22\n",
       "24. 23\n",
       "25. 24\n",
       "26. 25\n",
       "27. 26\n",
       "28. 27\n",
       "29. 28\n",
       "\n",
       "\n"
      ],
      "text/plain": [
       " [1]  0  1  2  3  4  5  6  7  8  9 10 11 12 13 14 15 16 17 18 19 20 21 22 23 24\n",
       "[26] 25 26 27 28"
      ]
     },
     "metadata": {},
     "output_type": "display_data"
    }
   ],
   "source": [
    "initial_state_values\n",
    "parameters\n",
    "times"
   ]
  },
  {
   "cell_type": "code",
   "execution_count": 10,
   "metadata": {},
   "outputs": [],
   "source": [
    "cohort_model <- function(time, state, parameters){\n",
    "    with(as.list(c(state, parameters)), {\n",
    "        dI <- -gamma*I-mu*I\n",
    "        dR <- gamma*I\n",
    "        dM <- mu*I\n",
    "        return(list(c(dI, dR, dM)))\n",
    "    })\n",
    "}"
   ]
  },
  {
   "cell_type": "code",
   "execution_count": 12,
   "metadata": {},
   "outputs": [],
   "source": [
    "library(deSolve)\n",
    "library(reshape2)\n",
    "library(ggplot2)\n",
    "\n",
    "output <- as.data.frame(ode(y = initial_state_values, \n",
    "                            times = times, \n",
    "                            func = cohort_model,\n",
    "                            parms = parameters))"
   ]
  },
  {
   "cell_type": "code",
   "execution_count": 13,
   "metadata": {},
   "outputs": [
    {
     "data": {
      "text/html": [
       "<table>\n",
       "<thead><tr><th scope=col>time</th><th scope=col>I</th><th scope=col>R</th><th scope=col>M</th></tr></thead>\n",
       "<tbody>\n",
       "\t<tr><td> 0          </td><td>1000000.0000</td><td>     0.00   </td><td>     0.0    </td></tr>\n",
       "\t<tr><td> 1          </td><td> 740818.2240</td><td> 86393.93   </td><td>172787.9    </td></tr>\n",
       "\t<tr><td> 2          </td><td> 548811.6238</td><td>150396.13   </td><td>300792.3    </td></tr>\n",
       "\t<tr><td> 3          </td><td> 406569.6441</td><td>197810.12   </td><td>395620.2    </td></tr>\n",
       "\t<tr><td> 4          </td><td> 301194.1295</td><td>232935.29   </td><td>465870.6    </td></tr>\n",
       "\t<tr><td> 5          </td><td> 223130.0332</td><td>258956.66   </td><td>517913.3    </td></tr>\n",
       "\t<tr><td> 6          </td><td> 165298.7445</td><td>278233.75   </td><td>556467.5    </td></tr>\n",
       "\t<tr><td> 7          </td><td> 122456.2989</td><td>292514.57   </td><td>585029.1    </td></tr>\n",
       "\t<tr><td> 8          </td><td>  90717.8284</td><td>303094.06   </td><td>606188.1    </td></tr>\n",
       "\t<tr><td> 9          </td><td>  67205.4086</td><td>310931.53   </td><td>621863.1    </td></tr>\n",
       "\t<tr><td>10          </td><td>  49786.9751</td><td>316737.67   </td><td>633475.3    </td></tr>\n",
       "\t<tr><td>11          </td><td>  36883.0919</td><td>321038.97   </td><td>642077.9    </td></tr>\n",
       "\t<tr><td>12          </td><td>  27323.6579</td><td>324225.45   </td><td>648450.9    </td></tr>\n",
       "\t<tr><td>13          </td><td>  20241.8599</td><td>326586.05   </td><td>653172.1    </td></tr>\n",
       "\t<tr><td>14          </td><td>  14995.5341</td><td>328334.82   </td><td>656669.6    </td></tr>\n",
       "\t<tr><td>15          </td><td>  11108.9626</td><td>329630.35   </td><td>659260.7    </td></tr>\n",
       "\t<tr><td>16          </td><td>   8229.7197</td><td>330590.09   </td><td>661180.2    </td></tr>\n",
       "\t<tr><td>17          </td><td>   6096.7248</td><td>331301.09   </td><td>662602.2    </td></tr>\n",
       "\t<tr><td>18          </td><td>   4516.5637</td><td>331827.81   </td><td>663655.6    </td></tr>\n",
       "\t<tr><td>19          </td><td>   3345.9518</td><td>332218.02   </td><td>664436.0    </td></tr>\n",
       "\t<tr><td>20          </td><td>   2478.7415</td><td>332507.09   </td><td>665014.2    </td></tr>\n",
       "\t<tr><td>21          </td><td>   1836.2963</td><td>332721.23   </td><td>665442.5    </td></tr>\n",
       "\t<tr><td>22          </td><td>   1360.3615</td><td>332879.88   </td><td>665759.8    </td></tr>\n",
       "\t<tr><td>23          </td><td>   1007.7803</td><td>332997.41   </td><td>665994.8    </td></tr>\n",
       "\t<tr><td>24          </td><td>    746.5819</td><td>333084.47   </td><td>666168.9    </td></tr>\n",
       "\t<tr><td>25          </td><td>    553.0813</td><td>333148.97   </td><td>666297.9    </td></tr>\n",
       "\t<tr><td>26          </td><td>    409.7326</td><td>333196.76   </td><td>666393.5    </td></tr>\n",
       "\t<tr><td>27          </td><td>    303.5373</td><td>333232.15   </td><td>666464.3    </td></tr>\n",
       "\t<tr><td>28          </td><td>    224.8659</td><td>333258.38   </td><td>666516.8    </td></tr>\n",
       "</tbody>\n",
       "</table>\n"
      ],
      "text/latex": [
       "\\begin{tabular}{r|llll}\n",
       " time & I & R & M\\\\\n",
       "\\hline\n",
       "\t  0           & 1000000.0000 &      0.00    &      0.0    \\\\\n",
       "\t  1           &  740818.2240 &  86393.93    & 172787.9    \\\\\n",
       "\t  2           &  548811.6238 & 150396.13    & 300792.3    \\\\\n",
       "\t  3           &  406569.6441 & 197810.12    & 395620.2    \\\\\n",
       "\t  4           &  301194.1295 & 232935.29    & 465870.6    \\\\\n",
       "\t  5           &  223130.0332 & 258956.66    & 517913.3    \\\\\n",
       "\t  6           &  165298.7445 & 278233.75    & 556467.5    \\\\\n",
       "\t  7           &  122456.2989 & 292514.57    & 585029.1    \\\\\n",
       "\t  8           &   90717.8284 & 303094.06    & 606188.1    \\\\\n",
       "\t  9           &   67205.4086 & 310931.53    & 621863.1    \\\\\n",
       "\t 10           &   49786.9751 & 316737.67    & 633475.3    \\\\\n",
       "\t 11           &   36883.0919 & 321038.97    & 642077.9    \\\\\n",
       "\t 12           &   27323.6579 & 324225.45    & 648450.9    \\\\\n",
       "\t 13           &   20241.8599 & 326586.05    & 653172.1    \\\\\n",
       "\t 14           &   14995.5341 & 328334.82    & 656669.6    \\\\\n",
       "\t 15           &   11108.9626 & 329630.35    & 659260.7    \\\\\n",
       "\t 16           &    8229.7197 & 330590.09    & 661180.2    \\\\\n",
       "\t 17           &    6096.7248 & 331301.09    & 662602.2    \\\\\n",
       "\t 18           &    4516.5637 & 331827.81    & 663655.6    \\\\\n",
       "\t 19           &    3345.9518 & 332218.02    & 664436.0    \\\\\n",
       "\t 20           &    2478.7415 & 332507.09    & 665014.2    \\\\\n",
       "\t 21           &    1836.2963 & 332721.23    & 665442.5    \\\\\n",
       "\t 22           &    1360.3615 & 332879.88    & 665759.8    \\\\\n",
       "\t 23           &    1007.7803 & 332997.41    & 665994.8    \\\\\n",
       "\t 24           &     746.5819 & 333084.47    & 666168.9    \\\\\n",
       "\t 25           &     553.0813 & 333148.97    & 666297.9    \\\\\n",
       "\t 26           &     409.7326 & 333196.76    & 666393.5    \\\\\n",
       "\t 27           &     303.5373 & 333232.15    & 666464.3    \\\\\n",
       "\t 28           &     224.8659 & 333258.38    & 666516.8    \\\\\n",
       "\\end{tabular}\n"
      ],
      "text/markdown": [
       "\n",
       "| time | I | R | M |\n",
       "|---|---|---|---|\n",
       "|  0           | 1000000.0000 |      0.00    |      0.0     |\n",
       "|  1           |  740818.2240 |  86393.93    | 172787.9     |\n",
       "|  2           |  548811.6238 | 150396.13    | 300792.3     |\n",
       "|  3           |  406569.6441 | 197810.12    | 395620.2     |\n",
       "|  4           |  301194.1295 | 232935.29    | 465870.6     |\n",
       "|  5           |  223130.0332 | 258956.66    | 517913.3     |\n",
       "|  6           |  165298.7445 | 278233.75    | 556467.5     |\n",
       "|  7           |  122456.2989 | 292514.57    | 585029.1     |\n",
       "|  8           |   90717.8284 | 303094.06    | 606188.1     |\n",
       "|  9           |   67205.4086 | 310931.53    | 621863.1     |\n",
       "| 10           |   49786.9751 | 316737.67    | 633475.3     |\n",
       "| 11           |   36883.0919 | 321038.97    | 642077.9     |\n",
       "| 12           |   27323.6579 | 324225.45    | 648450.9     |\n",
       "| 13           |   20241.8599 | 326586.05    | 653172.1     |\n",
       "| 14           |   14995.5341 | 328334.82    | 656669.6     |\n",
       "| 15           |   11108.9626 | 329630.35    | 659260.7     |\n",
       "| 16           |    8229.7197 | 330590.09    | 661180.2     |\n",
       "| 17           |    6096.7248 | 331301.09    | 662602.2     |\n",
       "| 18           |    4516.5637 | 331827.81    | 663655.6     |\n",
       "| 19           |    3345.9518 | 332218.02    | 664436.0     |\n",
       "| 20           |    2478.7415 | 332507.09    | 665014.2     |\n",
       "| 21           |    1836.2963 | 332721.23    | 665442.5     |\n",
       "| 22           |    1360.3615 | 332879.88    | 665759.8     |\n",
       "| 23           |    1007.7803 | 332997.41    | 665994.8     |\n",
       "| 24           |     746.5819 | 333084.47    | 666168.9     |\n",
       "| 25           |     553.0813 | 333148.97    | 666297.9     |\n",
       "| 26           |     409.7326 | 333196.76    | 666393.5     |\n",
       "| 27           |     303.5373 | 333232.15    | 666464.3     |\n",
       "| 28           |     224.8659 | 333258.38    | 666516.8     |\n",
       "\n"
      ],
      "text/plain": [
       "   time I            R         M       \n",
       "1   0   1000000.0000      0.00      0.0\n",
       "2   1    740818.2240  86393.93 172787.9\n",
       "3   2    548811.6238 150396.13 300792.3\n",
       "4   3    406569.6441 197810.12 395620.2\n",
       "5   4    301194.1295 232935.29 465870.6\n",
       "6   5    223130.0332 258956.66 517913.3\n",
       "7   6    165298.7445 278233.75 556467.5\n",
       "8   7    122456.2989 292514.57 585029.1\n",
       "9   8     90717.8284 303094.06 606188.1\n",
       "10  9     67205.4086 310931.53 621863.1\n",
       "11 10     49786.9751 316737.67 633475.3\n",
       "12 11     36883.0919 321038.97 642077.9\n",
       "13 12     27323.6579 324225.45 648450.9\n",
       "14 13     20241.8599 326586.05 653172.1\n",
       "15 14     14995.5341 328334.82 656669.6\n",
       "16 15     11108.9626 329630.35 659260.7\n",
       "17 16      8229.7197 330590.09 661180.2\n",
       "18 17      6096.7248 331301.09 662602.2\n",
       "19 18      4516.5637 331827.81 663655.6\n",
       "20 19      3345.9518 332218.02 664436.0\n",
       "21 20      2478.7415 332507.09 665014.2\n",
       "22 21      1836.2963 332721.23 665442.5\n",
       "23 22      1360.3615 332879.88 665759.8\n",
       "24 23      1007.7803 332997.41 665994.8\n",
       "25 24       746.5819 333084.47 666168.9\n",
       "26 25       553.0813 333148.97 666297.9\n",
       "27 26       409.7326 333196.76 666393.5\n",
       "28 27       303.5373 333232.15 666464.3\n",
       "29 28       224.8659 333258.38 666516.8"
      ]
     },
     "metadata": {},
     "output_type": "display_data"
    }
   ],
   "source": [
    "output"
   ]
  },
  {
   "cell_type": "code",
   "execution_count": 14,
   "metadata": {},
   "outputs": [
    {
     "data": {
      "image/png": "[encoded data removed]",
      "text/plain": [
       "plot without title"
      ]
     },
     "metadata": {},
     "output_type": "display_data"
    }
   ],
   "source": [
    "output_long <- melt(as.data.frame(output), id = 'time')\n",
    "\n",
    "ggplot(data = output_long,\n",
    "      aes(x = time, y = value, colour = variable, group = variable))+\n",
    "geom_line()+\n",
    "xlab(\"Time (days)\")+\n",
    "ylab(\"Number of people\")+\n",
    "labs(colour = \"Compartment\")"
   ]
  },
  {
   "cell_type": "code",
   "execution_count": 16,
   "metadata": {},
   "outputs": [
    {
     "data": {
      "text/html": [
       "<table>\n",
       "<thead><tr><th></th><th scope=col>time</th><th scope=col>I</th><th scope=col>R</th><th scope=col>M</th></tr></thead>\n",
       "<tbody>\n",
       "\t<tr><th scope=row>29</th><td>28      </td><td>224.8659</td><td>333258.4</td><td>666516.8</td></tr>\n",
       "</tbody>\n",
       "</table>\n"
      ],
      "text/latex": [
       "\\begin{tabular}{r|llll}\n",
       "  & time & I & R & M\\\\\n",
       "\\hline\n",
       "\t29 & 28       & 224.8659 & 333258.4 & 666516.8\\\\\n",
       "\\end{tabular}\n"
      ],
      "text/markdown": [
       "\n",
       "| <!--/--> | time | I | R | M |\n",
       "|---|---|---|---|---|\n",
       "| 29 | 28       | 224.8659 | 333258.4 | 666516.8 |\n",
       "\n"
      ],
      "text/plain": [
       "   time I        R        M       \n",
       "29 28   224.8659 333258.4 666516.8"
      ]
     },
     "metadata": {},
     "output_type": "display_data"
    }
   ],
   "source": [
    "output[output$time == 28,]"
   ]
  },
  {
   "cell_type": "code",
   "execution_count": 18,
   "metadata": {},
   "outputs": [
    {
     "data": {
      "text/html": [
       "666516.756058322"
      ],
      "text/latex": [
       "666516.756058322"
      ],
      "text/markdown": [
       "666516.756058322"
      ],
      "text/plain": [
       "[1] 666516.8"
      ]
     },
     "metadata": {},
     "output_type": "display_data"
    }
   ],
   "source": [
    "output[29, \"M\"] "
   ]
  },
  {
   "cell_type": "code",
   "execution_count": 17,
   "metadata": {},
   "outputs": [
    {
     "data": {
      "text/html": [
       "0.666516756058322"
      ],
      "text/latex": [
       "0.666516756058322"
      ],
      "text/markdown": [
       "0.666516756058322"
      ],
      "text/plain": [
       "[1] 0.6665168"
      ]
     },
     "metadata": {},
     "output_type": "display_data"
    }
   ],
   "source": [
    "output[29, \"M\"]/1000000 # #based on the model output, what proportion of the initially infected\n",
    "#cohort died before recovering over the 4 week period?"
   ]
  },
  {
   "cell_type": "code",
   "execution_count": 19,
   "metadata": {},
   "outputs": [],
   "source": [
    "# case fatality rate or CFR given by-\n",
    "\n",
    "CFR = parameters[\"mu\"]/(parameters[\"mu\"] + parameters[\"gamma\"]) "
   ]
  },
  {
   "cell_type": "code",
   "execution_count": 23,
   "metadata": {},
   "outputs": [
    {
     "data": {
      "text/html": [
       "<strong>mu:</strong> 0.666666666666667"
      ],
      "text/latex": [
       "\\textbf{mu:} 0.666666666666667"
      ],
      "text/markdown": [
       "**mu:** 0.666666666666667"
      ],
      "text/plain": [
       "       mu \n",
       "0.6666667 "
      ]
     },
     "metadata": {},
     "output_type": "display_data"
    }
   ],
   "source": [
    "CFR"
   ]
  },
  {
   "cell_type": "code",
   "execution_count": 25,
   "metadata": {},
   "outputs": [],
   "source": [
    "mortality_rate = 0.1\n",
    "parameters <- c(mu = mortality_rate, gamma = recovery_rate)\n",
    "output <- as.data.frame(ode(y = initial_state_values, \n",
    "                            times = times, \n",
    "                            func = cohort_model,\n",
    "                            parms = parameters))"
   ]
  },
  {
   "cell_type": "code",
   "execution_count": 26,
   "metadata": {},
   "outputs": [
    {
     "data": {
      "text/html": [
       "<table>\n",
       "<thead><tr><th scope=col>time</th><th scope=col>I</th><th scope=col>R</th><th scope=col>M</th></tr></thead>\n",
       "<tbody>\n",
       "\t<tr><td> 0         </td><td>1000000.000</td><td>     0.00  </td><td>     0.00  </td></tr>\n",
       "\t<tr><td> 1         </td><td> 818730.757</td><td> 90634.62  </td><td> 90634.62  </td></tr>\n",
       "\t<tr><td> 2         </td><td> 670320.048</td><td>164839.98  </td><td>164839.98  </td></tr>\n",
       "\t<tr><td> 3         </td><td> 548811.620</td><td>225594.19  </td><td>225594.19  </td></tr>\n",
       "\t<tr><td> 4         </td><td> 449328.944</td><td>275335.53  </td><td>275335.53  </td></tr>\n",
       "\t<tr><td> 5         </td><td> 367879.419</td><td>316060.29  </td><td>316060.29  </td></tr>\n",
       "\t<tr><td> 6         </td><td> 301194.148</td><td>349402.93  </td><td>349402.93  </td></tr>\n",
       "\t<tr><td> 7         </td><td> 246596.860</td><td>376701.57  </td><td>376701.57  </td></tr>\n",
       "\t<tr><td> 8         </td><td> 201896.403</td><td>399051.80  </td><td>399051.80  </td></tr>\n",
       "\t<tr><td> 9         </td><td> 165298.768</td><td>417350.62  </td><td>417350.62  </td></tr>\n",
       "\t<tr><td>10         </td><td> 135335.165</td><td>432332.42  </td><td>432332.42  </td></tr>\n",
       "\t<tr><td>11         </td><td> 110803.046</td><td>444598.48  </td><td>444598.48  </td></tr>\n",
       "\t<tr><td>12         </td><td>  90717.847</td><td>454641.08  </td><td>454641.08  </td></tr>\n",
       "\t<tr><td>13         </td><td>  74273.480</td><td>462863.26  </td><td>462863.26  </td></tr>\n",
       "\t<tr><td>14         </td><td>  60809.973</td><td>469595.01  </td><td>469595.01  </td></tr>\n",
       "\t<tr><td>15         </td><td>  49786.988</td><td>475106.51  </td><td>475106.51  </td></tr>\n",
       "\t<tr><td>16         </td><td>  40762.132</td><td>479618.93  </td><td>479618.93  </td></tr>\n",
       "\t<tr><td>17         </td><td>  33373.206</td><td>483313.40  </td><td>483313.40  </td></tr>\n",
       "\t<tr><td>18         </td><td>  27323.666</td><td>486338.17  </td><td>486338.17  </td></tr>\n",
       "\t<tr><td>19         </td><td>  22370.722</td><td>488814.64  </td><td>488814.64  </td></tr>\n",
       "\t<tr><td>20         </td><td>  18315.596</td><td>490842.20  </td><td>490842.20  </td></tr>\n",
       "\t<tr><td>21         </td><td>  14995.539</td><td>492502.23  </td><td>492502.23  </td></tr>\n",
       "\t<tr><td>22         </td><td>  12277.307</td><td>493861.35  </td><td>493861.35  </td></tr>\n",
       "\t<tr><td>23         </td><td>  10051.808</td><td>494974.10  </td><td>494974.10  </td></tr>\n",
       "\t<tr><td>24         </td><td>   8229.723</td><td>495885.14  </td><td>495885.14  </td></tr>\n",
       "\t<tr><td>25         </td><td>   6737.926</td><td>496631.04  </td><td>496631.04  </td></tr>\n",
       "\t<tr><td>26         </td><td>   5516.546</td><td>497241.73  </td><td>497241.73  </td></tr>\n",
       "\t<tr><td>27         </td><td>   4516.566</td><td>497741.72  </td><td>497741.72  </td></tr>\n",
       "\t<tr><td>28         </td><td>   3697.851</td><td>498151.07  </td><td>498151.07  </td></tr>\n",
       "</tbody>\n",
       "</table>\n"
      ],
      "text/latex": [
       "\\begin{tabular}{r|llll}\n",
       " time & I & R & M\\\\\n",
       "\\hline\n",
       "\t  0          & 1000000.000 &      0.00   &      0.00  \\\\\n",
       "\t  1          &  818730.757 &  90634.62   &  90634.62  \\\\\n",
       "\t  2          &  670320.048 & 164839.98   & 164839.98  \\\\\n",
       "\t  3          &  548811.620 & 225594.19   & 225594.19  \\\\\n",
       "\t  4          &  449328.944 & 275335.53   & 275335.53  \\\\\n",
       "\t  5          &  367879.419 & 316060.29   & 316060.29  \\\\\n",
       "\t  6          &  301194.148 & 349402.93   & 349402.93  \\\\\n",
       "\t  7          &  246596.860 & 376701.57   & 376701.57  \\\\\n",
       "\t  8          &  201896.403 & 399051.80   & 399051.80  \\\\\n",
       "\t  9          &  165298.768 & 417350.62   & 417350.62  \\\\\n",
       "\t 10          &  135335.165 & 432332.42   & 432332.42  \\\\\n",
       "\t 11          &  110803.046 & 444598.48   & 444598.48  \\\\\n",
       "\t 12          &   90717.847 & 454641.08   & 454641.08  \\\\\n",
       "\t 13          &   74273.480 & 462863.26   & 462863.26  \\\\\n",
       "\t 14          &   60809.973 & 469595.01   & 469595.01  \\\\\n",
       "\t 15          &   49786.988 & 475106.51   & 475106.51  \\\\\n",
       "\t 16          &   40762.132 & 479618.93   & 479618.93  \\\\\n",
       "\t 17          &   33373.206 & 483313.40   & 483313.40  \\\\\n",
       "\t 18          &   27323.666 & 486338.17   & 486338.17  \\\\\n",
       "\t 19          &   22370.722 & 488814.64   & 488814.64  \\\\\n",
       "\t 20          &   18315.596 & 490842.20   & 490842.20  \\\\\n",
       "\t 21          &   14995.539 & 492502.23   & 492502.23  \\\\\n",
       "\t 22          &   12277.307 & 493861.35   & 493861.35  \\\\\n",
       "\t 23          &   10051.808 & 494974.10   & 494974.10  \\\\\n",
       "\t 24          &    8229.723 & 495885.14   & 495885.14  \\\\\n",
       "\t 25          &    6737.926 & 496631.04   & 496631.04  \\\\\n",
       "\t 26          &    5516.546 & 497241.73   & 497241.73  \\\\\n",
       "\t 27          &    4516.566 & 497741.72   & 497741.72  \\\\\n",
       "\t 28          &    3697.851 & 498151.07   & 498151.07  \\\\\n",
       "\\end{tabular}\n"
      ],
      "text/markdown": [
       "\n",
       "| time | I | R | M |\n",
       "|---|---|---|---|\n",
       "|  0          | 1000000.000 |      0.00   |      0.00   |\n",
       "|  1          |  818730.757 |  90634.62   |  90634.62   |\n",
       "|  2          |  670320.048 | 164839.98   | 164839.98   |\n",
       "|  3          |  548811.620 | 225594.19   | 225594.19   |\n",
       "|  4          |  449328.944 | 275335.53   | 275335.53   |\n",
       "|  5          |  367879.419 | 316060.29   | 316060.29   |\n",
       "|  6          |  301194.148 | 349402.93   | 349402.93   |\n",
       "|  7          |  246596.860 | 376701.57   | 376701.57   |\n",
       "|  8          |  201896.403 | 399051.80   | 399051.80   |\n",
       "|  9          |  165298.768 | 417350.62   | 417350.62   |\n",
       "| 10          |  135335.165 | 432332.42   | 432332.42   |\n",
       "| 11          |  110803.046 | 444598.48   | 444598.48   |\n",
       "| 12          |   90717.847 | 454641.08   | 454641.08   |\n",
       "| 13          |   74273.480 | 462863.26   | 462863.26   |\n",
       "| 14          |   60809.973 | 469595.01   | 469595.01   |\n",
       "| 15          |   49786.988 | 475106.51   | 475106.51   |\n",
       "| 16          |   40762.132 | 479618.93   | 479618.93   |\n",
       "| 17          |   33373.206 | 483313.40   | 483313.40   |\n",
       "| 18          |   27323.666 | 486338.17   | 486338.17   |\n",
       "| 19          |   22370.722 | 488814.64   | 488814.64   |\n",
       "| 20          |   18315.596 | 490842.20   | 490842.20   |\n",
       "| 21          |   14995.539 | 492502.23   | 492502.23   |\n",
       "| 22          |   12277.307 | 493861.35   | 493861.35   |\n",
       "| 23          |   10051.808 | 494974.10   | 494974.10   |\n",
       "| 24          |    8229.723 | 495885.14   | 495885.14   |\n",
       "| 25          |    6737.926 | 496631.04   | 496631.04   |\n",
       "| 26          |    5516.546 | 497241.73   | 497241.73   |\n",
       "| 27          |    4516.566 | 497741.72   | 497741.72   |\n",
       "| 28          |    3697.851 | 498151.07   | 498151.07   |\n",
       "\n"
      ],
      "text/plain": [
       "   time I           R         M        \n",
       "1   0   1000000.000      0.00      0.00\n",
       "2   1    818730.757  90634.62  90634.62\n",
       "3   2    670320.048 164839.98 164839.98\n",
       "4   3    548811.620 225594.19 225594.19\n",
       "5   4    449328.944 275335.53 275335.53\n",
       "6   5    367879.419 316060.29 316060.29\n",
       "7   6    301194.148 349402.93 349402.93\n",
       "8   7    246596.860 376701.57 376701.57\n",
       "9   8    201896.403 399051.80 399051.80\n",
       "10  9    165298.768 417350.62 417350.62\n",
       "11 10    135335.165 432332.42 432332.42\n",
       "12 11    110803.046 444598.48 444598.48\n",
       "13 12     90717.847 454641.08 454641.08\n",
       "14 13     74273.480 462863.26 462863.26\n",
       "15 14     60809.973 469595.01 469595.01\n",
       "16 15     49786.988 475106.51 475106.51\n",
       "17 16     40762.132 479618.93 479618.93\n",
       "18 17     33373.206 483313.40 483313.40\n",
       "19 18     27323.666 486338.17 486338.17\n",
       "20 19     22370.722 488814.64 488814.64\n",
       "21 20     18315.596 490842.20 490842.20\n",
       "22 21     14995.539 492502.23 492502.23\n",
       "23 22     12277.307 493861.35 493861.35\n",
       "24 23     10051.808 494974.10 494974.10\n",
       "25 24      8229.723 495885.14 495885.14\n",
       "26 25      6737.926 496631.04 496631.04\n",
       "27 26      5516.546 497241.73 497241.73\n",
       "28 27      4516.566 497741.72 497741.72\n",
       "29 28      3697.851 498151.07 498151.07"
      ]
     },
     "metadata": {},
     "output_type": "display_data"
    }
   ],
   "source": [
    "output"
   ]
  },
  {
   "cell_type": "code",
   "execution_count": 27,
   "metadata": {},
   "outputs": [
    {
     "data": {
      "text/html": [
       "497741.717202815"
      ],
      "text/latex": [
       "497741.717202815"
      ],
      "text/markdown": [
       "497741.717202815"
      ],
      "text/plain": [
       "[1] 497741.7"
      ]
     },
     "metadata": {},
     "output_type": "display_data"
    }
   ],
   "source": [
    "output[28, \"M\"]"
   ]
  },
  {
   "cell_type": "code",
   "execution_count": 28,
   "metadata": {},
   "outputs": [
    {
     "data": {
      "text/html": [
       "0.497741717202815"
      ],
      "text/latex": [
       "0.497741717202815"
      ],
      "text/markdown": [
       "0.497741717202815"
      ],
      "text/plain": [
       "[1] 0.4977417"
      ]
     },
     "metadata": {},
     "output_type": "display_data"
    }
   ],
   "source": [
    "# calculating case fatality rate\n",
    "\n",
    "output[28, \"M\"]/1000000"
   ]
  },
  {
   "cell_type": "code",
   "execution_count": 29,
   "metadata": {},
   "outputs": [
    {
     "data": {
      "image/png": "[encoded data removed]",
      "text/plain": [
       "plot without title"
      ]
     },
     "metadata": {},
     "output_type": "display_data"
    }
   ],
   "source": [
    "output_long <- melt(as.data.frame(output), id = 'time')\n",
    "\n",
    "ggplot(data = output_long,\n",
    "      aes(x = time, y = value, colour = variable, group = variable))+\n",
    "geom_line()+\n",
    "xlab(\"Time (days)\")+\n",
    "ylab(\"Number of people\")+\n",
    "labs(colour = \"Compartment\")"
   ]
  },
  {
   "cell_type": "code",
   "execution_count": 30,
   "metadata": {},
   "outputs": [],
   "source": [
    "# case fatality rate or CFR given by-\n",
    "\n",
    "CFR = parameters[\"mu\"]/(parameters[\"mu\"] + parameters[\"gamma\"])"
   ]
  },
  {
   "cell_type": "code",
   "execution_count": 31,
   "metadata": {},
   "outputs": [
    {
     "data": {
      "text/html": [
       "<strong>mu:</strong> 0.5"
      ],
      "text/latex": [
       "\\textbf{mu:} 0.5"
      ],
      "text/markdown": [
       "**mu:** 0.5"
      ],
      "text/plain": [
       " mu \n",
       "0.5 "
      ]
     },
     "metadata": {},
     "output_type": "display_data"
    }
   ],
   "source": [
    "CFR"
   ]
  },
  {
   "cell_type": "code",
   "execution_count": null,
   "metadata": {},
   "outputs": [],
   "source": []
  }
 ],
 "metadata": {
  "kernelspec": {
   "display_name": "Python 3",
   "language": "python",
   "name": "python3"
  },
  "language_info": {
   "codemirror_mode": {
    "name": "ipython",
    "version": 3
   },
   "file_extension": ".py",
   "mimetype": "text/x-python",
   "name": "python",
   "nbconvert_exporter": "python",
   "pygments_lexer": "ipython3",
   "version": "3.7.1"
  }
 },
 "nbformat": 4,
 "nbformat_minor": 5
}
